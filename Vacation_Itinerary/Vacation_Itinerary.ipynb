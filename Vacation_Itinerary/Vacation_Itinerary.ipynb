{
 "cells": [
  {
   "cell_type": "markdown",
   "metadata": {},
   "source": [
    "## Deliverable 3. Create a Travel Itinerary Map."
   ]
  },
  {
   "cell_type": "code",
   "execution_count": 80,
   "metadata": {},
   "outputs": [],
   "source": [
    "# Dependencies and Setup\n",
    "import pandas as pd\n",
    "import requests\n",
    "import gmaps\n",
    "\n",
    "# Import API key\n",
    "from config import g_key\n",
    "\n",
    "# Configure gmaps\n",
    "gmaps.configure(api_key=g_key)"
   ]
  },
  {
   "cell_type": "code",
   "execution_count": 81,
   "metadata": {},
   "outputs": [
    {
     "output_type": "execute_result",
     "data": {
      "text/plain": [
       "   City_ID               City Country  Max Temp Weather Description    Lat  \\\n",
       "0        1             Avarua      CK     77.00     overcast clouds -21.21   \n",
       "1        7  Sao Joao Da Barra      BR     75.20       broken clouds -21.64   \n",
       "2       11         Bredasdorp      ZA     60.80     overcast clouds -34.53   \n",
       "3       15               Tezu      IN     73.40          light rain  27.92   \n",
       "4       16        Port Alfred      ZA     61.77       broken clouds -33.59   \n",
       "\n",
       "      Lng                Hotel Name  \n",
       "0 -159.78              Paradise Inn  \n",
       "1  -41.05   Pousada Porto De Canoas  \n",
       "2   20.04  Bredasdorp Country Manor  \n",
       "3   96.17             Circuit House  \n",
       "4   26.89        The Halyards Hotel  "
      ],
      "text/html": "<div>\n<style scoped>\n    .dataframe tbody tr th:only-of-type {\n        vertical-align: middle;\n    }\n\n    .dataframe tbody tr th {\n        vertical-align: top;\n    }\n\n    .dataframe thead th {\n        text-align: right;\n    }\n</style>\n<table border=\"1\" class=\"dataframe\">\n  <thead>\n    <tr style=\"text-align: right;\">\n      <th></th>\n      <th>City_ID</th>\n      <th>City</th>\n      <th>Country</th>\n      <th>Max Temp</th>\n      <th>Weather Description</th>\n      <th>Lat</th>\n      <th>Lng</th>\n      <th>Hotel Name</th>\n    </tr>\n  </thead>\n  <tbody>\n    <tr>\n      <th>0</th>\n      <td>1</td>\n      <td>Avarua</td>\n      <td>CK</td>\n      <td>77.00</td>\n      <td>overcast clouds</td>\n      <td>-21.21</td>\n      <td>-159.78</td>\n      <td>Paradise Inn</td>\n    </tr>\n    <tr>\n      <th>1</th>\n      <td>7</td>\n      <td>Sao Joao Da Barra</td>\n      <td>BR</td>\n      <td>75.20</td>\n      <td>broken clouds</td>\n      <td>-21.64</td>\n      <td>-41.05</td>\n      <td>Pousada Porto De Canoas</td>\n    </tr>\n    <tr>\n      <th>2</th>\n      <td>11</td>\n      <td>Bredasdorp</td>\n      <td>ZA</td>\n      <td>60.80</td>\n      <td>overcast clouds</td>\n      <td>-34.53</td>\n      <td>20.04</td>\n      <td>Bredasdorp Country Manor</td>\n    </tr>\n    <tr>\n      <th>3</th>\n      <td>15</td>\n      <td>Tezu</td>\n      <td>IN</td>\n      <td>73.40</td>\n      <td>light rain</td>\n      <td>27.92</td>\n      <td>96.17</td>\n      <td>Circuit House</td>\n    </tr>\n    <tr>\n      <th>4</th>\n      <td>16</td>\n      <td>Port Alfred</td>\n      <td>ZA</td>\n      <td>61.77</td>\n      <td>broken clouds</td>\n      <td>-33.59</td>\n      <td>26.89</td>\n      <td>The Halyards Hotel</td>\n    </tr>\n  </tbody>\n</table>\n</div>"
     },
     "metadata": {},
     "execution_count": 81
    }
   ],
   "source": [
    "# 1. Read the WeatherPy_vacation.csv into a DataFrame.\n",
    "vacation_df = pd.read_csv(\"../Vacation_Search/WeatherPy_vacation.csv\")\n",
    "vacation_df.head()"
   ]
  },
  {
   "cell_type": "code",
   "execution_count": 82,
   "metadata": {},
   "outputs": [],
   "source": [
    "# 2. Using the template add the city name, the country code, the weather description and maximum temperature for the city.\n",
    "info_box_template = \"\"\"\n",
    "<dl>\n",
    "<dt><b>Hotel Name</b></dt><dd>{Hotel Name}</dd>\n",
    "<dt><b>City</b></dt><dd>{City}</dd>\n",
    "<dt><b>Country</b></dt><dd>{Country}</dd>\n",
    "<dt><b>Current Weather</b></dt><dd>{Weather Description} and {Max Temp} °F</dd>\n",
    "</dl>\n",
    "\"\"\"\n",
    "\n",
    "# 3a. Get the data from each row and add it to the formatting template and store the data in a list.\n",
    "hotel_info = [info_box_template.format(**row) for index, row in vacation_df.iterrows()]\n",
    "\n",
    "# 3b. Get the latitude and longitude from each row and store in a new DataFrame.\n",
    "locations = vacation_df[[\"Lat\", \"Lng\"]]"
   ]
  },
  {
   "cell_type": "code",
   "execution_count": 83,
   "metadata": {},
   "outputs": [
    {
     "output_type": "display_data",
     "data": {
      "text/plain": "Figure(layout=FigureLayout(height='420px'))",
      "application/vnd.jupyter.widget-view+json": {
       "version_major": 2,
       "version_minor": 0,
       "model_id": "9d08c8ab2e064ac2a6a469c31f064a90"
      }
     },
     "metadata": {}
    }
   ],
   "source": [
    "# 4a. Add a marker layer for each city to the map.\n",
    "# Add a heatmap of temperature for the vacation spots and a pop-up marker for each city.\n",
    "max_temp = vacation_df[\"Max Temp\"]\n",
    "fig = gmaps.figure(center=(30.0, 31.0), zoom_level=1.5)\n",
    "marker_layer = gmaps.marker_layer(locations, info_box_content=hotel_info)\n",
    "fig.add_layer(marker_layer)\n",
    "\n",
    "\n",
    "# 4b. Display the figure\n",
    "fig\n"
   ]
  },
  {
   "cell_type": "code",
   "execution_count": 84,
   "metadata": {},
   "outputs": [
    {
     "output_type": "stream",
     "name": "stdout",
     "text": [
      "     City_ID   City Country  Max Temp Weather Description    Lat     Lng  \\\n145      414  Perth      AU      64.4           clear sky -31.93  115.83   \n\n                Hotel Name  \n145  Parmelia Hilton Perth  \n     City_ID   City Country  Max Temp Weather Description    Lat     Lng  \\\n145      414  Perth      AU      64.4           clear sky -31.93  115.83   \n\n                Hotel Name  \n145  Parmelia Hilton Perth  \n     City_ID      City Country  Max Temp Weather Description    Lat     Lng  \\\n214      566  Karratha      AU     62.44           clear sky -20.74  116.85   \n\n               Hotel Name  \n214  ibis Styles Karratha  \n    City_ID    City Country  Max Temp Weather Description    Lat     Lng  \\\n31       89  Cairns      AU      68.0          few clouds -16.92  145.77   \n\n               Hotel Name  \n31  Mantra Trilogy Cairns  \n     City_ID   City Country  Max Temp Weather Description    Lat     Lng  \\\n251      683  Kiama      AU     60.01     overcast clouds -34.68  150.87   \n\n                      Hotel Name  \n251  The Sebel Kiama Harbourside  \n"
     ]
    }
   ],
   "source": [
    "# From the map above pick 4 cities and create a vacation itinerary route to travel between the four cities. \n",
    "# 5. Create DataFrames for each city by filtering the 'vacation_df' using the loc method. \n",
    "# Hint: The starting and ending city should be the same city.\n",
    "\n",
    "vacation_start = vacation_df.loc[vacation_df['City']=='Perth']\n",
    "vacation_end = vacation_df.loc[vacation_df['City']=='Perth']\n",
    "vacation_stop1 = vacation_df.loc[vacation_df['City']=='Karratha']\n",
    "vacation_stop2 = vacation_df.loc[vacation_df['City']=='Cairns'] \n",
    "vacation_stop3 = vacation_df.loc[vacation_df['City']=='Kiama'] \n",
    "\n",
    "print(vacation_start)\n",
    "print(vacation_end)\n",
    "print(vacation_stop1)\n",
    "print(vacation_stop2)\n",
    "print(vacation_stop3)"
   ]
  },
  {
   "cell_type": "code",
   "execution_count": 85,
   "metadata": {},
   "outputs": [],
   "source": [
    "# 6. Get the latitude-longitude pairs as tuples from each city DataFrame using the to_numpy function and list indexing.\n",
    "start = (vacation_start[['Lat','Lng']].to_numpy()[0][0], vacation_start[['Lat','Lng']].to_numpy()[0][1])\n",
    "end = (vacation_end[['Lat','Lng']].to_numpy()[0][0], vacation_end[['Lat','Lng']].to_numpy()[0][1])\n",
    "stop1 = (vacation_stop1[['Lat','Lng']].to_numpy()[0][0], vacation_stop1[['Lat','Lng']].to_numpy()[0][1])\n",
    "stop2 = (vacation_stop2[['Lat','Lng']].to_numpy()[0][0], vacation_stop2[['Lat','Lng']].to_numpy()[0][1])\n",
    "stop3 = (vacation_stop3[['Lat','Lng']].to_numpy()[0][0], vacation_stop3[['Lat','Lng']].to_numpy()[0][1])"
   ]
  },
  {
   "cell_type": "code",
   "execution_count": 86,
   "metadata": {
    "scrolled": true
   },
   "outputs": [
    {
     "output_type": "display_data",
     "data": {
      "text/plain": "Figure(layout=FigureLayout(height='420px'))",
      "application/vnd.jupyter.widget-view+json": {
       "version_major": 2,
       "version_minor": 0,
       "model_id": "d54c18741b1e42ce8094e5e2cfc21f55"
      }
     },
     "metadata": {}
    }
   ],
   "source": [
    "# 7. Create a direction layer map using the start and end latitude-longitude pairs,\n",
    "# and stop1, stop2, and stop3 as the waypoints. The travel_mode should be \"DRIVING\", \"BICYCLING\", or \"WALKING\".\n",
    "# Latitude-longitude pairs\n",
    "fig = gmaps.figure()\n",
    "directions_layer = gmaps.directions_layer(start, end, waypoints=[stop1, stop2, stop3], travel_mode='DRIVING')\n",
    "fig.add_layer(directions_layer)\n",
    "fig"
   ]
  },
  {
   "cell_type": "code",
   "execution_count": 87,
   "metadata": {},
   "outputs": [
    {
     "output_type": "execute_result",
     "data": {
      "text/plain": [
       "   City_ID      City Country  Max Temp Weather Description    Lat     Lng  \\\n",
       "0      414     Perth      AU     64.40           clear sky -31.93  115.83   \n",
       "1      566  Karratha      AU     62.44           clear sky -20.74  116.85   \n",
       "2       89    Cairns      AU     68.00          few clouds -16.92  145.77   \n",
       "3      683     Kiama      AU     60.01     overcast clouds -34.68  150.87   \n",
       "\n",
       "                    Hotel Name  \n",
       "0        Parmelia Hilton Perth  \n",
       "1         ibis Styles Karratha  \n",
       "2        Mantra Trilogy Cairns  \n",
       "3  The Sebel Kiama Harbourside  "
      ],
      "text/html": "<div>\n<style scoped>\n    .dataframe tbody tr th:only-of-type {\n        vertical-align: middle;\n    }\n\n    .dataframe tbody tr th {\n        vertical-align: top;\n    }\n\n    .dataframe thead th {\n        text-align: right;\n    }\n</style>\n<table border=\"1\" class=\"dataframe\">\n  <thead>\n    <tr style=\"text-align: right;\">\n      <th></th>\n      <th>City_ID</th>\n      <th>City</th>\n      <th>Country</th>\n      <th>Max Temp</th>\n      <th>Weather Description</th>\n      <th>Lat</th>\n      <th>Lng</th>\n      <th>Hotel Name</th>\n    </tr>\n  </thead>\n  <tbody>\n    <tr>\n      <th>0</th>\n      <td>414</td>\n      <td>Perth</td>\n      <td>AU</td>\n      <td>64.40</td>\n      <td>clear sky</td>\n      <td>-31.93</td>\n      <td>115.83</td>\n      <td>Parmelia Hilton Perth</td>\n    </tr>\n    <tr>\n      <th>1</th>\n      <td>566</td>\n      <td>Karratha</td>\n      <td>AU</td>\n      <td>62.44</td>\n      <td>clear sky</td>\n      <td>-20.74</td>\n      <td>116.85</td>\n      <td>ibis Styles Karratha</td>\n    </tr>\n    <tr>\n      <th>2</th>\n      <td>89</td>\n      <td>Cairns</td>\n      <td>AU</td>\n      <td>68.00</td>\n      <td>few clouds</td>\n      <td>-16.92</td>\n      <td>145.77</td>\n      <td>Mantra Trilogy Cairns</td>\n    </tr>\n    <tr>\n      <th>3</th>\n      <td>683</td>\n      <td>Kiama</td>\n      <td>AU</td>\n      <td>60.01</td>\n      <td>overcast clouds</td>\n      <td>-34.68</td>\n      <td>150.87</td>\n      <td>The Sebel Kiama Harbourside</td>\n    </tr>\n  </tbody>\n</table>\n</div>"
     },
     "metadata": {},
     "execution_count": 87
    }
   ],
   "source": [
    "# 8. To create a marker layer map between the four cities.\n",
    "#  Combine the four city DataFrames into one DataFrame using the concat() function.\n",
    "itinerary_df = pd.concat([vacation_start, vacation_stop1, vacation_stop2, vacation_stop3],ignore_index=True)\n",
    "itinerary_df"
   ]
  },
  {
   "cell_type": "code",
   "execution_count": 88,
   "metadata": {},
   "outputs": [],
   "source": [
    "# 9 Using the template add city name, the country code, the weather description and maximum temperature for the city. \n",
    "info_box_template = \"\"\"\n",
    "<dl>\n",
    "<dt><b>Hotel Name</b></dt><dd>{Hotel Name}</dd>\n",
    "<dt><b>City</b></dt><dd>{City}</dd>\n",
    "<dt><b>Country</b></dt><dd>{Country}</dd>\n",
    "<dt><b>Current Weather</b></dt><dd>{Weather Description} and {Max Temp} °F</dd>\n",
    "</dl>\n",
    "\"\"\"\n",
    "# 10a Get the data from each row and add it to the formatting template and store the data in a list.\n",
    "hotel_info = [info_box_template.format(**row) for index, row in itinerary_df.iterrows()]\n",
    "\n",
    "# 10b. Get the latitude and longitude from each row and store in a new DataFrame.\n",
    "locations = itinerary_df[[\"Lat\", \"Lng\"]]"
   ]
  },
  {
   "cell_type": "code",
   "execution_count": 89,
   "metadata": {},
   "outputs": [
    {
     "output_type": "display_data",
     "data": {
      "text/plain": "Figure(layout=FigureLayout(height='420px'))",
      "application/vnd.jupyter.widget-view+json": {
       "version_major": 2,
       "version_minor": 0,
       "model_id": "8de0c8db2fc24b3faca26dc2a6d8104b"
      }
     },
     "metadata": {}
    }
   ],
   "source": [
    "# 11a. Add a marker layer for each city to the map.\n",
    "max_temp = itinerary_df[\"Max Temp\"]\n",
    "fig = gmaps.figure(center=(-25, 140), zoom_level=3.0)\n",
    "marker_layer = gmaps.marker_layer(locations, info_box_content=hotel_info)\n",
    "fig.add_layer(marker_layer)\n",
    "\n",
    "# 11b. Display the figure\n",
    "fig"
   ]
  },
  {
   "cell_type": "code",
   "execution_count": null,
   "metadata": {},
   "outputs": [],
   "source": []
  }
 ],
 "metadata": {
  "kernelspec": {
   "display_name": "PythonData",
   "language": "python",
   "name": "pythondata"
  },
  "language_info": {
   "codemirror_mode": {
    "name": "ipython",
    "version": 3
   },
   "file_extension": ".py",
   "mimetype": "text/x-python",
   "name": "python",
   "nbconvert_exporter": "python",
   "pygments_lexer": "ipython3",
   "version": "3.8.3-final"
  },
  "latex_envs": {
   "LaTeX_envs_menu_present": true,
   "autoclose": false,
   "autocomplete": true,
   "bibliofile": "biblio.bib",
   "cite_by": "apalike",
   "current_citInitial": 1,
   "eqLabelWithNumbers": true,
   "eqNumInitial": 1,
   "hotkeys": {
    "equation": "Ctrl-E",
    "itemize": "Ctrl-I"
   },
   "labels_anchors": false,
   "latex_user_defs": false,
   "report_style_numbering": false,
   "user_envs_cfg": false
  }
 },
 "nbformat": 4,
 "nbformat_minor": 2
}