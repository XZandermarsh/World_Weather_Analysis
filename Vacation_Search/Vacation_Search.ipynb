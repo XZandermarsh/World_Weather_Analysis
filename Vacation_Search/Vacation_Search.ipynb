{
 "cells": [
  {
   "cell_type": "markdown",
   "metadata": {},
   "source": [
    "## Deliverable 2. Create a Customer Travel Destinations Map."
   ]
  },
  {
   "cell_type": "code",
   "execution_count": 38,
   "metadata": {},
   "outputs": [],
   "source": [
    "# Dependencies and Setup\n",
    "import pandas as pd\n",
    "import requests\n",
    "import gmaps\n",
    "import numpy as np\n",
    " \n",
    "# Import API key\n",
    "from config import g_key\n",
    "\n",
    "# Configure gmaps API key\n",
    "gmaps.configure(api_key=g_key)"
   ]
  },
  {
   "cell_type": "code",
   "execution_count": 39,
   "metadata": {},
   "outputs": [
    {
     "output_type": "execute_result",
     "data": {
      "text/plain": [
       "   City_ID       City Country    Lat     Lng  Max Temp  Humidity  Cloudiness  \\\n",
       "0        0      Kapaa      US  22.08 -159.32     82.00        88          90   \n",
       "1        1     Avarua      CK -21.21 -159.78     77.00        78          92   \n",
       "2        2  Busselton      AU -33.65  115.33     57.99        57           0   \n",
       "3        3    Ushuaia      AR -54.80  -68.30     42.80        75          75   \n",
       "4        4        Eyl      SO   7.98   49.82     80.31        76           0   \n",
       "\n",
       "   Wind Speed Weather Description  \n",
       "0        6.93       moderate rain  \n",
       "1        8.05     overcast clouds  \n",
       "2        8.14           clear sky  \n",
       "3       28.86          light rain  \n",
       "4        8.48           clear sky  "
      ],
      "text/html": "<div>\n<style scoped>\n    .dataframe tbody tr th:only-of-type {\n        vertical-align: middle;\n    }\n\n    .dataframe tbody tr th {\n        vertical-align: top;\n    }\n\n    .dataframe thead th {\n        text-align: right;\n    }\n</style>\n<table border=\"1\" class=\"dataframe\">\n  <thead>\n    <tr style=\"text-align: right;\">\n      <th></th>\n      <th>City_ID</th>\n      <th>City</th>\n      <th>Country</th>\n      <th>Lat</th>\n      <th>Lng</th>\n      <th>Max Temp</th>\n      <th>Humidity</th>\n      <th>Cloudiness</th>\n      <th>Wind Speed</th>\n      <th>Weather Description</th>\n    </tr>\n  </thead>\n  <tbody>\n    <tr>\n      <th>0</th>\n      <td>0</td>\n      <td>Kapaa</td>\n      <td>US</td>\n      <td>22.08</td>\n      <td>-159.32</td>\n      <td>82.00</td>\n      <td>88</td>\n      <td>90</td>\n      <td>6.93</td>\n      <td>moderate rain</td>\n    </tr>\n    <tr>\n      <th>1</th>\n      <td>1</td>\n      <td>Avarua</td>\n      <td>CK</td>\n      <td>-21.21</td>\n      <td>-159.78</td>\n      <td>77.00</td>\n      <td>78</td>\n      <td>92</td>\n      <td>8.05</td>\n      <td>overcast clouds</td>\n    </tr>\n    <tr>\n      <th>2</th>\n      <td>2</td>\n      <td>Busselton</td>\n      <td>AU</td>\n      <td>-33.65</td>\n      <td>115.33</td>\n      <td>57.99</td>\n      <td>57</td>\n      <td>0</td>\n      <td>8.14</td>\n      <td>clear sky</td>\n    </tr>\n    <tr>\n      <th>3</th>\n      <td>3</td>\n      <td>Ushuaia</td>\n      <td>AR</td>\n      <td>-54.80</td>\n      <td>-68.30</td>\n      <td>42.80</td>\n      <td>75</td>\n      <td>75</td>\n      <td>28.86</td>\n      <td>light rain</td>\n    </tr>\n    <tr>\n      <th>4</th>\n      <td>4</td>\n      <td>Eyl</td>\n      <td>SO</td>\n      <td>7.98</td>\n      <td>49.82</td>\n      <td>80.31</td>\n      <td>76</td>\n      <td>0</td>\n      <td>8.48</td>\n      <td>clear sky</td>\n    </tr>\n  </tbody>\n</table>\n</div>"
     },
     "metadata": {},
     "execution_count": 39
    }
   ],
   "source": [
    "# 1. Import the WeatherPy_database.csv file. \n",
    "city_data_df = pd.read_csv(\"../Weather_Database/WeatherPy_Database.csv\")\n",
    "city_data_df.head()"
   ]
  },
  {
   "cell_type": "code",
   "execution_count": 40,
   "metadata": {},
   "outputs": [],
   "source": [
    "# 2. Prompt the user to enter minimum and maximum temperature criteria \n",
    "user_min_temp = int(input(\"Please enter your desired minimum temperature in F\"))\n",
    "user_max_temp = int(input(\"Please enter your desired maximum temperature in F\"))"
   ]
  },
  {
   "cell_type": "code",
   "execution_count": 41,
   "metadata": {},
   "outputs": [
    {
     "output_type": "stream",
     "name": "stdout",
     "text": [
      "Temperature filter yielded 271/685 results.\n"
     ]
    }
   ],
   "source": [
    "# 3. Filter the city_data_df DataFrame using the input statements to create a new DataFrame using the loc method.\n",
    "city_data_df_filtered = city_data_df.loc[city_data_df['Max Temp'] > user_min_temp]\n",
    "city_data_df_filtered = city_data_df_filtered.loc[city_data_df_filtered['Max Temp'] < user_max_temp]\n",
    "print(\"Temperature filter yielded \" + str(len(city_data_df_filtered)) + \"/\" + str(len(city_data_df)) + \" results.\")"
   ]
  },
  {
   "cell_type": "code",
   "execution_count": 42,
   "metadata": {},
   "outputs": [
    {
     "output_type": "execute_result",
     "data": {
      "text/plain": [
       "City_ID                271\n",
       "City                   271\n",
       "Country                267\n",
       "Lat                    271\n",
       "Lng                    271\n",
       "Max Temp               271\n",
       "Humidity               271\n",
       "Cloudiness             271\n",
       "Wind Speed             271\n",
       "Weather Description    271\n",
       "dtype: int64"
      ]
     },
     "metadata": {},
     "execution_count": 42
    }
   ],
   "source": [
    "# 4a. Determine if there are any empty rows.\n",
    "city_data_df_filtered.count()"
   ]
  },
  {
   "cell_type": "code",
   "execution_count": 43,
   "metadata": {},
   "outputs": [
    {
     "output_type": "execute_result",
     "data": {
      "text/plain": [
       "City_ID                267\n",
       "City                   267\n",
       "Country                267\n",
       "Lat                    267\n",
       "Lng                    267\n",
       "Max Temp               267\n",
       "Humidity               267\n",
       "Cloudiness             267\n",
       "Wind Speed             267\n",
       "Weather Description    267\n",
       "dtype: int64"
      ]
     },
     "metadata": {},
     "execution_count": 43
    }
   ],
   "source": [
    "# 4b. Drop any empty rows and create a new DataFrame that doesn’t have empty rows.\n",
    "city_data_df_filtered = city_data_df_filtered.dropna()\n",
    "city_data_df_filtered.count()"
   ]
  },
  {
   "cell_type": "code",
   "execution_count": 44,
   "metadata": {},
   "outputs": [
    {
     "output_type": "execute_result",
     "data": {
      "text/plain": [
       "                     City Country  Max Temp Weather Description    Lat  \\\n",
       "1                  Avarua      CK     77.00     overcast clouds -21.21   \n",
       "7       Sao Joao Da Barra      BR     75.20       broken clouds -21.64   \n",
       "11             Bredasdorp      ZA     60.80     overcast clouds -34.53   \n",
       "15                   Tezu      IN     73.40          light rain  27.92   \n",
       "16            Port Alfred      ZA     61.77       broken clouds -33.59   \n",
       "17        Arraial Do Cabo      BR     73.40    scattered clouds -22.97   \n",
       "21  Los Llanos De Aridane      ES     75.20          few clouds  28.66   \n",
       "23                Atambua      ID     73.13           clear sky  -9.11   \n",
       "25              Carnarvon      AU     69.80     overcast clouds -24.87   \n",
       "29                  Dekar      BW     76.23           clear sky -21.53   \n",
       "\n",
       "       Lng Hotel Name  \n",
       "1  -159.78             \n",
       "7   -41.05             \n",
       "11   20.04             \n",
       "15   96.17             \n",
       "16   26.89             \n",
       "17  -42.03             \n",
       "21  -17.92             \n",
       "23  124.89             \n",
       "25  113.63             \n",
       "29   21.93             "
      ],
      "text/html": "<div>\n<style scoped>\n    .dataframe tbody tr th:only-of-type {\n        vertical-align: middle;\n    }\n\n    .dataframe tbody tr th {\n        vertical-align: top;\n    }\n\n    .dataframe thead th {\n        text-align: right;\n    }\n</style>\n<table border=\"1\" class=\"dataframe\">\n  <thead>\n    <tr style=\"text-align: right;\">\n      <th></th>\n      <th>City</th>\n      <th>Country</th>\n      <th>Max Temp</th>\n      <th>Weather Description</th>\n      <th>Lat</th>\n      <th>Lng</th>\n      <th>Hotel Name</th>\n    </tr>\n  </thead>\n  <tbody>\n    <tr>\n      <th>1</th>\n      <td>Avarua</td>\n      <td>CK</td>\n      <td>77.00</td>\n      <td>overcast clouds</td>\n      <td>-21.21</td>\n      <td>-159.78</td>\n      <td></td>\n    </tr>\n    <tr>\n      <th>7</th>\n      <td>Sao Joao Da Barra</td>\n      <td>BR</td>\n      <td>75.20</td>\n      <td>broken clouds</td>\n      <td>-21.64</td>\n      <td>-41.05</td>\n      <td></td>\n    </tr>\n    <tr>\n      <th>11</th>\n      <td>Bredasdorp</td>\n      <td>ZA</td>\n      <td>60.80</td>\n      <td>overcast clouds</td>\n      <td>-34.53</td>\n      <td>20.04</td>\n      <td></td>\n    </tr>\n    <tr>\n      <th>15</th>\n      <td>Tezu</td>\n      <td>IN</td>\n      <td>73.40</td>\n      <td>light rain</td>\n      <td>27.92</td>\n      <td>96.17</td>\n      <td></td>\n    </tr>\n    <tr>\n      <th>16</th>\n      <td>Port Alfred</td>\n      <td>ZA</td>\n      <td>61.77</td>\n      <td>broken clouds</td>\n      <td>-33.59</td>\n      <td>26.89</td>\n      <td></td>\n    </tr>\n    <tr>\n      <th>17</th>\n      <td>Arraial Do Cabo</td>\n      <td>BR</td>\n      <td>73.40</td>\n      <td>scattered clouds</td>\n      <td>-22.97</td>\n      <td>-42.03</td>\n      <td></td>\n    </tr>\n    <tr>\n      <th>21</th>\n      <td>Los Llanos De Aridane</td>\n      <td>ES</td>\n      <td>75.20</td>\n      <td>few clouds</td>\n      <td>28.66</td>\n      <td>-17.92</td>\n      <td></td>\n    </tr>\n    <tr>\n      <th>23</th>\n      <td>Atambua</td>\n      <td>ID</td>\n      <td>73.13</td>\n      <td>clear sky</td>\n      <td>-9.11</td>\n      <td>124.89</td>\n      <td></td>\n    </tr>\n    <tr>\n      <th>25</th>\n      <td>Carnarvon</td>\n      <td>AU</td>\n      <td>69.80</td>\n      <td>overcast clouds</td>\n      <td>-24.87</td>\n      <td>113.63</td>\n      <td></td>\n    </tr>\n    <tr>\n      <th>29</th>\n      <td>Dekar</td>\n      <td>BW</td>\n      <td>76.23</td>\n      <td>clear sky</td>\n      <td>-21.53</td>\n      <td>21.93</td>\n      <td></td>\n    </tr>\n  </tbody>\n</table>\n</div>"
     },
     "metadata": {},
     "execution_count": 44
    }
   ],
   "source": [
    "# 5a. Create DataFrame called hotel_df to store hotel names along with city, country, max temp, and coordinates.\n",
    "hotel_df = city_data_df_filtered[[\"City\", \"Country\", \"Max Temp\", \"Weather Description\", \"Lat\", \"Lng\"]].copy()\n",
    "\n",
    "# 5b. Create a new column \"Hotel Name\"\n",
    "hotel_df[\"Hotel Name\"] = \"\"\n",
    "hotel_df.head(10)"
   ]
  },
  {
   "cell_type": "code",
   "execution_count": 48,
   "metadata": {},
   "outputs": [
    {
     "output_type": "stream",
     "name": "stdout",
     "text": [
      "Hotel not found... skipping.\n",
      "Hotel not found... skipping.\n",
      "Hotel not found... skipping.\n",
      "Hotel not found... skipping.\n",
      "Hotel not found... skipping.\n",
      "Hotel not found... skipping.\n",
      "Hotel not found... skipping.\n",
      "Hotel not found... skipping.\n",
      "Hotel not found... skipping.\n",
      "Hotel not found... skipping.\n",
      "Hotel not found... skipping.\n",
      "Hotel not found... skipping.\n",
      "Hotel not found... skipping.\n",
      "Hotel not found... skipping.\n"
     ]
    }
   ],
   "source": [
    "# 6a. Set parameters to search for hotels with 5000 meters.\n",
    "params = {\n",
    "    \"radius\": 5000,\n",
    "    \"type\": \"lodging\",\n",
    "    \"key\": g_key\n",
    "}\n",
    "\n",
    "# 6b. Iterate through the hotel DataFrame.\n",
    "for index, row in hotel_df.iterrows():\n",
    "    # 6c. Get latitude and longitude from DataFrame\n",
    "    lat = row[\"Lat\"]\n",
    "    lng = row[\"Lng\"]\n",
    "    params[\"location\"] = f\"{lat},{lng}\"\n",
    "    # 6d. Set up the base URL for the Google Directions API to get JSON data.\n",
    "    base_url = \"https://maps.googleapis.com/maps/api/place/nearbysearch/json\"\n",
    "\n",
    "    # 6e. Make request and retrieve the JSON data from the search. \n",
    "    hotels = requests.get(base_url, params=params).json()\n",
    "    \n",
    "    # 6f. Get the first hotel from the results and store the name, if a hotel isn't found skip the city.\n",
    "    try:\n",
    "        hotel_df.loc[index, \"Hotel Name\"] = hotels[\"results\"][0][\"name\"]\n",
    "    except(IndexError):\n",
    "        print(\"Hotel not found... skipping.\")\n",
    "        \n",
    "        "
   ]
  },
  {
   "cell_type": "code",
   "execution_count": 49,
   "metadata": {},
   "outputs": [
    {
     "output_type": "execute_result",
     "data": {
      "text/plain": [
       "                  City Country  Max Temp Weather Description    Lat     Lng  \\\n",
       "1               Avarua      CK     77.00     overcast clouds -21.21 -159.78   \n",
       "7    Sao Joao Da Barra      BR     75.20       broken clouds -21.64  -41.05   \n",
       "11          Bredasdorp      ZA     60.80     overcast clouds -34.53   20.04   \n",
       "15                Tezu      IN     73.40          light rain  27.92   96.17   \n",
       "16         Port Alfred      ZA     61.77       broken clouds -33.59   26.89   \n",
       "..                 ...     ...       ...                 ...    ...     ...   \n",
       "672           Chipinge      ZW     62.60           clear sky -20.19   32.62   \n",
       "679                Ilo      PE     63.63       broken clouds -17.64  -71.34   \n",
       "682            Hirapur      IN     73.35          light rain  21.53   79.77   \n",
       "683              Kiama      AU     60.01     overcast clouds -34.68  150.87   \n",
       "684              Ceuta      ES     68.00     overcast clouds  35.89   -5.31   \n",
       "\n",
       "                      Hotel Name  \n",
       "1                   Paradise Inn  \n",
       "7        Pousada Porto De Canoas  \n",
       "11      Bredasdorp Country Manor  \n",
       "15                 Circuit House  \n",
       "16            The Halyards Hotel  \n",
       "..                           ...  \n",
       "672                  Mutare Club  \n",
       "679            Torreblanca Hotel  \n",
       "682                GUDRI VILLAGE  \n",
       "683  The Sebel Kiama Harbourside  \n",
       "684       Ceuta Puerta de Africa  \n",
       "\n",
       "[267 rows x 7 columns]"
      ],
      "text/html": "<div>\n<style scoped>\n    .dataframe tbody tr th:only-of-type {\n        vertical-align: middle;\n    }\n\n    .dataframe tbody tr th {\n        vertical-align: top;\n    }\n\n    .dataframe thead th {\n        text-align: right;\n    }\n</style>\n<table border=\"1\" class=\"dataframe\">\n  <thead>\n    <tr style=\"text-align: right;\">\n      <th></th>\n      <th>City</th>\n      <th>Country</th>\n      <th>Max Temp</th>\n      <th>Weather Description</th>\n      <th>Lat</th>\n      <th>Lng</th>\n      <th>Hotel Name</th>\n    </tr>\n  </thead>\n  <tbody>\n    <tr>\n      <th>1</th>\n      <td>Avarua</td>\n      <td>CK</td>\n      <td>77.00</td>\n      <td>overcast clouds</td>\n      <td>-21.21</td>\n      <td>-159.78</td>\n      <td>Paradise Inn</td>\n    </tr>\n    <tr>\n      <th>7</th>\n      <td>Sao Joao Da Barra</td>\n      <td>BR</td>\n      <td>75.20</td>\n      <td>broken clouds</td>\n      <td>-21.64</td>\n      <td>-41.05</td>\n      <td>Pousada Porto De Canoas</td>\n    </tr>\n    <tr>\n      <th>11</th>\n      <td>Bredasdorp</td>\n      <td>ZA</td>\n      <td>60.80</td>\n      <td>overcast clouds</td>\n      <td>-34.53</td>\n      <td>20.04</td>\n      <td>Bredasdorp Country Manor</td>\n    </tr>\n    <tr>\n      <th>15</th>\n      <td>Tezu</td>\n      <td>IN</td>\n      <td>73.40</td>\n      <td>light rain</td>\n      <td>27.92</td>\n      <td>96.17</td>\n      <td>Circuit House</td>\n    </tr>\n    <tr>\n      <th>16</th>\n      <td>Port Alfred</td>\n      <td>ZA</td>\n      <td>61.77</td>\n      <td>broken clouds</td>\n      <td>-33.59</td>\n      <td>26.89</td>\n      <td>The Halyards Hotel</td>\n    </tr>\n    <tr>\n      <th>...</th>\n      <td>...</td>\n      <td>...</td>\n      <td>...</td>\n      <td>...</td>\n      <td>...</td>\n      <td>...</td>\n      <td>...</td>\n    </tr>\n    <tr>\n      <th>672</th>\n      <td>Chipinge</td>\n      <td>ZW</td>\n      <td>62.60</td>\n      <td>clear sky</td>\n      <td>-20.19</td>\n      <td>32.62</td>\n      <td>Mutare Club</td>\n    </tr>\n    <tr>\n      <th>679</th>\n      <td>Ilo</td>\n      <td>PE</td>\n      <td>63.63</td>\n      <td>broken clouds</td>\n      <td>-17.64</td>\n      <td>-71.34</td>\n      <td>Torreblanca Hotel</td>\n    </tr>\n    <tr>\n      <th>682</th>\n      <td>Hirapur</td>\n      <td>IN</td>\n      <td>73.35</td>\n      <td>light rain</td>\n      <td>21.53</td>\n      <td>79.77</td>\n      <td>GUDRI VILLAGE</td>\n    </tr>\n    <tr>\n      <th>683</th>\n      <td>Kiama</td>\n      <td>AU</td>\n      <td>60.01</td>\n      <td>overcast clouds</td>\n      <td>-34.68</td>\n      <td>150.87</td>\n      <td>The Sebel Kiama Harbourside</td>\n    </tr>\n    <tr>\n      <th>684</th>\n      <td>Ceuta</td>\n      <td>ES</td>\n      <td>68.00</td>\n      <td>overcast clouds</td>\n      <td>35.89</td>\n      <td>-5.31</td>\n      <td>Ceuta Puerta de Africa</td>\n    </tr>\n  </tbody>\n</table>\n<p>267 rows × 7 columns</p>\n</div>"
     },
     "metadata": {},
     "execution_count": 49
    }
   ],
   "source": [
    "hotel_df"
   ]
  },
  {
   "cell_type": "code",
   "execution_count": 51,
   "metadata": {},
   "outputs": [
    {
     "output_type": "execute_result",
     "data": {
      "text/plain": [
       "                  City Country  Max Temp Weather Description    Lat     Lng  \\\n",
       "1               Avarua      CK     77.00     overcast clouds -21.21 -159.78   \n",
       "7    Sao Joao Da Barra      BR     75.20       broken clouds -21.64  -41.05   \n",
       "11          Bredasdorp      ZA     60.80     overcast clouds -34.53   20.04   \n",
       "15                Tezu      IN     73.40          light rain  27.92   96.17   \n",
       "16         Port Alfred      ZA     61.77       broken clouds -33.59   26.89   \n",
       "..                 ...     ...       ...                 ...    ...     ...   \n",
       "672           Chipinge      ZW     62.60           clear sky -20.19   32.62   \n",
       "679                Ilo      PE     63.63       broken clouds -17.64  -71.34   \n",
       "682            Hirapur      IN     73.35          light rain  21.53   79.77   \n",
       "683              Kiama      AU     60.01     overcast clouds -34.68  150.87   \n",
       "684              Ceuta      ES     68.00     overcast clouds  35.89   -5.31   \n",
       "\n",
       "                      Hotel Name  \n",
       "1                   Paradise Inn  \n",
       "7        Pousada Porto De Canoas  \n",
       "11      Bredasdorp Country Manor  \n",
       "15                 Circuit House  \n",
       "16            The Halyards Hotel  \n",
       "..                           ...  \n",
       "672                  Mutare Club  \n",
       "679            Torreblanca Hotel  \n",
       "682                GUDRI VILLAGE  \n",
       "683  The Sebel Kiama Harbourside  \n",
       "684       Ceuta Puerta de Africa  \n",
       "\n",
       "[253 rows x 7 columns]"
      ],
      "text/html": "<div>\n<style scoped>\n    .dataframe tbody tr th:only-of-type {\n        vertical-align: middle;\n    }\n\n    .dataframe tbody tr th {\n        vertical-align: top;\n    }\n\n    .dataframe thead th {\n        text-align: right;\n    }\n</style>\n<table border=\"1\" class=\"dataframe\">\n  <thead>\n    <tr style=\"text-align: right;\">\n      <th></th>\n      <th>City</th>\n      <th>Country</th>\n      <th>Max Temp</th>\n      <th>Weather Description</th>\n      <th>Lat</th>\n      <th>Lng</th>\n      <th>Hotel Name</th>\n    </tr>\n  </thead>\n  <tbody>\n    <tr>\n      <th>1</th>\n      <td>Avarua</td>\n      <td>CK</td>\n      <td>77.00</td>\n      <td>overcast clouds</td>\n      <td>-21.21</td>\n      <td>-159.78</td>\n      <td>Paradise Inn</td>\n    </tr>\n    <tr>\n      <th>7</th>\n      <td>Sao Joao Da Barra</td>\n      <td>BR</td>\n      <td>75.20</td>\n      <td>broken clouds</td>\n      <td>-21.64</td>\n      <td>-41.05</td>\n      <td>Pousada Porto De Canoas</td>\n    </tr>\n    <tr>\n      <th>11</th>\n      <td>Bredasdorp</td>\n      <td>ZA</td>\n      <td>60.80</td>\n      <td>overcast clouds</td>\n      <td>-34.53</td>\n      <td>20.04</td>\n      <td>Bredasdorp Country Manor</td>\n    </tr>\n    <tr>\n      <th>15</th>\n      <td>Tezu</td>\n      <td>IN</td>\n      <td>73.40</td>\n      <td>light rain</td>\n      <td>27.92</td>\n      <td>96.17</td>\n      <td>Circuit House</td>\n    </tr>\n    <tr>\n      <th>16</th>\n      <td>Port Alfred</td>\n      <td>ZA</td>\n      <td>61.77</td>\n      <td>broken clouds</td>\n      <td>-33.59</td>\n      <td>26.89</td>\n      <td>The Halyards Hotel</td>\n    </tr>\n    <tr>\n      <th>...</th>\n      <td>...</td>\n      <td>...</td>\n      <td>...</td>\n      <td>...</td>\n      <td>...</td>\n      <td>...</td>\n      <td>...</td>\n    </tr>\n    <tr>\n      <th>672</th>\n      <td>Chipinge</td>\n      <td>ZW</td>\n      <td>62.60</td>\n      <td>clear sky</td>\n      <td>-20.19</td>\n      <td>32.62</td>\n      <td>Mutare Club</td>\n    </tr>\n    <tr>\n      <th>679</th>\n      <td>Ilo</td>\n      <td>PE</td>\n      <td>63.63</td>\n      <td>broken clouds</td>\n      <td>-17.64</td>\n      <td>-71.34</td>\n      <td>Torreblanca Hotel</td>\n    </tr>\n    <tr>\n      <th>682</th>\n      <td>Hirapur</td>\n      <td>IN</td>\n      <td>73.35</td>\n      <td>light rain</td>\n      <td>21.53</td>\n      <td>79.77</td>\n      <td>GUDRI VILLAGE</td>\n    </tr>\n    <tr>\n      <th>683</th>\n      <td>Kiama</td>\n      <td>AU</td>\n      <td>60.01</td>\n      <td>overcast clouds</td>\n      <td>-34.68</td>\n      <td>150.87</td>\n      <td>The Sebel Kiama Harbourside</td>\n    </tr>\n    <tr>\n      <th>684</th>\n      <td>Ceuta</td>\n      <td>ES</td>\n      <td>68.00</td>\n      <td>overcast clouds</td>\n      <td>35.89</td>\n      <td>-5.31</td>\n      <td>Ceuta Puerta de Africa</td>\n    </tr>\n  </tbody>\n</table>\n<p>253 rows × 7 columns</p>\n</div>"
     },
     "metadata": {},
     "execution_count": 51
    }
   ],
   "source": [
    "# 7. Drop the rows where there is no Hotel Name.\n",
    "hotel_df['Hotel Name'].replace('', np.nan, inplace=True)\n",
    "hotel_df = hotel_df.dropna(axis=0,how='any')\n",
    "hotel_df"
   ]
  },
  {
   "cell_type": "code",
   "execution_count": 53,
   "metadata": {},
   "outputs": [],
   "source": [
    "# 8a. Create the output File (CSV)\n",
    "# Create the output file (CSV).\n",
    "output_data_file = \"C:/Users/golfz/Documents/GitHub/World_Weather_Analysis/Vacation_Search/WeatherPy_vacation.csv\"\n",
    "\n",
    "# 8b. Export the City_Data into a csv\n",
    "hotel_df.to_csv(output_data_file, index_label=\"City_ID\")"
   ]
  },
  {
   "cell_type": "code",
   "execution_count": 54,
   "metadata": {},
   "outputs": [],
   "source": [
    "# 9. Using the template add city name, the country code, the weather description and maximum temperature for the city.\n",
    "info_box_template = \"\"\"\n",
    "<dl>\n",
    "<dt><b>Hotel Name</b></dt><dd>{Hotel Name}</dd>\n",
    "<dt><b>City</b></dt><dd>{City}</dd>\n",
    "<dt><b>Country</b></dt><dd>{Country}</dd>\n",
    "<dt><b>Current Weather</b></dt><dd>{Weather Description} and {Max Temp} °F</dd>\n",
    "</dl>\n",
    "\"\"\"\n",
    "\n",
    "# 10a. Get the data from each row and add it to the formatting template and store the data in a list.\n",
    "hotel_info = [info_box_template.format(**row) for index, row in hotel_df.iterrows()]\n",
    "\n",
    "# 10b. Get the latitude and longitude from each row and store in a new DataFrame.\n",
    "locations = hotel_df[[\"Lat\", \"Lng\"]]"
   ]
  },
  {
   "cell_type": "code",
   "execution_count": 19,
   "metadata": {},
   "outputs": [
    {
     "output_type": "display_data",
     "data": {
      "text/plain": "Figure(layout=FigureLayout(height='420px'))",
      "application/vnd.jupyter.widget-view+json": {
       "version_major": 2,
       "version_minor": 0,
       "model_id": "0d2351330e31459b8c271235846aef62"
      }
     },
     "metadata": {}
    }
   ],
   "source": [
    "# 11a. Add a marker layer for each city to the map. \n",
    "# Add a heatmap of temperature for the vacation spots and a pop-up marker for each city.\n",
    "max_temp = hotel_df[\"Max Temp\"]\n",
    "fig = gmaps.figure(center=(30.0, 31.0), zoom_level=1.5)\n",
    "heat_layer = gmaps.heatmap_layer(locations, weights=max_temp,dissipating=False,max_intensity=300, point_radius=4)\n",
    "marker_layer = gmaps.marker_layer(locations, info_box_content=hotel_info)\n",
    "fig.add_layer(heat_layer)\n",
    "fig.add_layer(marker_layer)\n",
    "\n",
    "# 11b. Display the figure\n",
    "fig"
   ]
  },
  {
   "cell_type": "code",
   "execution_count": null,
   "metadata": {},
   "outputs": [],
   "source": []
  },
  {
   "cell_type": "code",
   "execution_count": null,
   "metadata": {},
   "outputs": [],
   "source": []
  }
 ],
 "metadata": {
  "kernelspec": {
   "display_name": "PythonData",
   "language": "python",
   "name": "pythondata"
  },
  "language_info": {
   "codemirror_mode": {
    "name": "ipython",
    "version": 3
   },
   "file_extension": ".py",
   "mimetype": "text/x-python",
   "name": "python",
   "nbconvert_exporter": "python",
   "pygments_lexer": "ipython3",
   "version": "3.8.3-final"
  },
  "latex_envs": {
   "LaTeX_envs_menu_present": true,
   "autoclose": false,
   "autocomplete": true,
   "bibliofile": "biblio.bib",
   "cite_by": "apalike",
   "current_citInitial": 1,
   "eqLabelWithNumbers": true,
   "eqNumInitial": 1,
   "hotkeys": {
    "equation": "Ctrl-E",
    "itemize": "Ctrl-I"
   },
   "labels_anchors": false,
   "latex_user_defs": false,
   "report_style_numbering": false,
   "user_envs_cfg": false
  }
 },
 "nbformat": 4,
 "nbformat_minor": 2
}